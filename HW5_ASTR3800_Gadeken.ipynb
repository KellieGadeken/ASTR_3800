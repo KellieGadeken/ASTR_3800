{
 "cells": [
  {
   "cell_type": "markdown",
   "metadata": {},
   "source": [
    "Kellie Gadeken <br>\n",
    "ASTR 3800 <br>\n",
    "02.19.2019"
   ]
  },
  {
   "cell_type": "code",
   "execution_count": 1,
   "metadata": {},
   "outputs": [],
   "source": [
    "# libraries\n",
    "\n",
    "import numpy as np\n",
    "import matplotlib.pyplot as plt\n"
   ]
  },
  {
   "cell_type": "code",
   "execution_count": 2,
   "metadata": {},
   "outputs": [],
   "source": [
    "# function to calculate the signal-to-noise ratio when observing an object in the sky\n",
    "# all calculations assume 1 hour of observation time\n",
    "\n",
    "def calculate_SN(target_rate,sky_rate):\n",
    "    target_time = float(input(\"Within one hour, how many seconds do you want to spend observing the target? \"))\n",
    "    assert(target_time <= 3600)   # assert that target_time does not exceed 3600 seconds of observing time\n",
    "    sky_time = 3600 - target_time   # put the remaining observation time to the sky\n",
    "    \n",
    "    target = target_rate*target_time   # calculate the number of target photons seen during the observation time\n",
    "    sky = sky_rate*sky_time            # calculate the number of sky photons seen during the observation time\n",
    "    \n",
    "    target_unc = np.sqrt(target)*target_time    # calculate photon uncertainty \n",
    "    sky_unc = np.sqrt(sky)*sky_time          # calculate photon uncertainty\n",
    "    \n",
    "    signal = target - sky      # target - sky photons of actual object\n",
    "    #print(signal)\n",
    "    noise = np.sqrt((target_unc**2)+(sky_unc**2))   # the unc for the actual object\n",
    "    #print(noise)\n",
    "    \n",
    "    SN = signal/noise   # the signal-to-noise ratio\n",
    "    print(f\"The S/N ratio is {SN:.3}, or {SN*100:.3}%\")\n",
    "    #return SN"
   ]
  },
  {
   "cell_type": "code",
   "execution_count": 5,
   "metadata": {},
   "outputs": [
    {
     "name": "stdout",
     "output_type": "stream",
     "text": [
      "Within one hour, how many seconds do you want to spend observing the target? 0\n",
      "The S/N ratio is -0.0236, or -2.36%\n"
     ]
    }
   ],
   "source": [
    "target_rate = 10   # target rate, cts/s\n",
    "sky_rate = 2       # sky rate, cts/s\n",
    "\n",
    "calculate_SN(target_rate,sky_rate)"
   ]
  },
  {
   "cell_type": "code",
   "execution_count": 49,
   "metadata": {},
   "outputs": [
    {
     "name": "stdout",
     "output_type": "stream",
     "text": [
      "Within one hour, how many seconds do you want to spend observing the target? 1800\n",
      "The S/N ratio is 0.0544, or 5.44%\n"
     ]
    }
   ],
   "source": [
    "calculate_SN(target_rate,sky_rate)"
   ]
  },
  {
   "cell_type": "code",
   "execution_count": 50,
   "metadata": {},
   "outputs": [
    {
     "name": "stdout",
     "output_type": "stream",
     "text": [
      "Within one hour, how many seconds do you want to spend observing the target? 2400\n",
      "The S/N ratio is 0.0574, or 5.74%\n"
     ]
    }
   ],
   "source": [
    "calculate_SN(target_rate,sky_rate)"
   ]
  },
  {
   "cell_type": "code",
   "execution_count": 51,
   "metadata": {},
   "outputs": [
    {
     "name": "stdout",
     "output_type": "stream",
     "text": [
      "Within one hour, how many seconds do you want to spend observing the target? 3600\n",
      "The S/N ratio is 0.0527, or 5.27%\n"
     ]
    }
   ],
   "source": [
    "calculate_SN(target_rate,sky_rate)"
   ]
  },
  {
   "cell_type": "code",
   "execution_count": 3,
   "metadata": {},
   "outputs": [],
   "source": [
    "# slightly modified function to make running it through a loop simpler (see plot below)\n",
    "\n",
    "def calculate_SN_loop(target_time_loop,target_rate,sky_rate):\n",
    "    target_time = float(target_time_loop)\n",
    "    assert(target_time <= 3600)   # assert that target_time does not exceed 3600 seconds of observing time\n",
    "    sky_time = 3600 - target_time   # put the remaining observation time to the sky\n",
    "    \n",
    "    target = target_rate*target_time   # calculate the number of target photons seen during the observation time\n",
    "    sky = sky_rate*sky_time            # calculate the number of sky photons seen during the observation time\n",
    "    \n",
    "    target_unc = np.sqrt(target)*target_time    # calculate photon uncertainty \n",
    "    sky_unc = np.sqrt(sky)*sky_time          # calculate photon uncertainty\n",
    "    \n",
    "    signal = target - sky      # target - sky photons of actual object\n",
    "    #print(signal)\n",
    "    noise = np.sqrt((target_unc**2)+(sky_unc**2))   # the unc for the actual object\n",
    "    #print(noise)\n",
    "    \n",
    "    SN = signal/noise   # the signal-to-noise ratio\n",
    "    \n",
    "    return SN"
   ]
  },
  {
   "cell_type": "code",
   "execution_count": 15,
   "metadata": {},
   "outputs": [
    {
     "data": {
      "image/png": "[encoded data removed]",
      "text/plain": [
       "<Figure size 432x288 with 1 Axes>"
      ]
     },
     "metadata": {},
     "output_type": "display_data"
    },
    {
     "name": "stdout",
     "output_type": "stream",
     "text": [
      "For optimal S/N ratio, observe the target for 2296 seconds, and observe the sky for 1304 seconds. \n",
      "This is about 64% target time and 36% sky time.\n"
     ]
    }
   ],
   "source": [
    "# plot S/N for every option of time on target vs. time on background\n",
    "\n",
    "def plot_SN(target_rate,sky_rate):\n",
    "\n",
    "    SN_list = []\n",
    "\n",
    "    for i in np.arange(3600):\n",
    "        SN = calculate_SN_loop(i,target_rate,sky_rate)  \n",
    "        SN_list.append(SN)\n",
    "    SN_array = np.array(SN_list)*100   # translate the S/N into percentages\n",
    "\n",
    "    optimal_obs_time = SN_list.index(max(SN_list))   # the maximum time to observe target for optimal S/N\n",
    "\n",
    "    plt.plot(SN_array, c='darkseagreen')\n",
    "    plt.axvline(optimal_obs_time,linestyle='--',c='skyblue')   # plot location of optimal target observation time\n",
    "    plt.axhline(np.max(SN_array),linestyle='--',c='k',alpha=0.3) # plot horizontal line for maximum S/N ratio percentage\n",
    "    plt.title(\"S/N Ratios for Target vs. Sky Observation Time\")\n",
    "    plt.ylabel(\"S/N Percentage (%)\")\n",
    "    plt.xlabel(\"Observation Time of Target (sec)\")\n",
    "    plt.show()\n",
    "\n",
    "    print(f\"For optimal S/N ratio, observe the target for {optimal_obs_time} seconds, and observe the sky for {(3600-optimal_obs_time)} seconds. \\nThis is about {round((optimal_obs_time/3600)*100)}% target time and {round(((3600-optimal_obs_time)/3600)*100)}% sky time.\")\n",
    "\n",
    "plot_SN(target_rate,sky_rate)"
   ]
  },
  {
   "cell_type": "code",
   "execution_count": 16,
   "metadata": {},
   "outputs": [
    {
     "data": {
      "image/png": "[encoded data removed]",
      "text/plain": [
       "<Figure size 432x288 with 1 Axes>"
      ]
     },
     "metadata": {},
     "output_type": "display_data"
    },
    {
     "name": "stdout",
     "output_type": "stream",
     "text": [
      "For optimal S/N ratio, observe the target for 3599 seconds, and observe the sky for 1 seconds.\n",
      "This is about 100% target time and 0% sky time.\n"
     ]
    }
   ],
   "source": [
    "# show results for a different sky rate\n",
    "\n",
    "sky_rate_new = 5  # new sky rate, cts/sec\n",
    "\n",
    "plot_SN(target_rate,sky_rate_new)"
   ]
  },
  {
   "cell_type": "code",
   "execution_count": null,
   "metadata": {},
   "outputs": [],
   "source": []
  }
 ],
 "metadata": {
  "kernelspec": {
   "display_name": "Python 3",
   "language": "python",
   "name": "python3"
  },
  "language_info": {
   "codemirror_mode": {
    "name": "ipython",
    "version": 3
   },
   "file_extension": ".py",
   "mimetype": "text/x-python",
   "name": "python",
   "nbconvert_exporter": "python",
   "pygments_lexer": "ipython3",
   "version": "3.6.5"
  }
 },
 "nbformat": 4,
 "nbformat_minor": 2
}
