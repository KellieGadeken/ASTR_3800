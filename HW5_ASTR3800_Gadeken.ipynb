{
 "cells": [
  {
   "cell_type": "markdown",
   "metadata": {},
   "source": [
    "Kellie Gadeken <br>\n",
    "ASTR 3800 <br>\n",
    "HW # 5 <br>\n",
    "02.19.2019"
   ]
  },
  {
   "cell_type": "code",
   "execution_count": 30,
   "metadata": {},
   "outputs": [],
   "source": [
    "# libraries\n",
    "\n",
    "import numpy as np\n",
    "import matplotlib.pyplot as plt\n",
    "import math"
   ]
  },
  {
   "cell_type": "code",
   "execution_count": 12,
   "metadata": {},
   "outputs": [],
   "source": [
    "# function to calculate the signal-to-noise ratio when observing an object in the sky\n",
    "# all calculations assume 1 hour of observation time\n",
    "\n",
    "def calculate_SN(target_rate,sky_rate):\n",
    "    target_time = float(input(\"Within one hour, how many seconds do you want to spend observing the target? \"))\n",
    "    assert(target_time <= 3600)   # assert that target_time does not exceed 3600 seconds of observing time\n",
    "    sky_time = 3600 - target_time   # put the remaining observation time to the sky\n",
    "    \n",
    "    #target_time = 500  # test\n",
    "    #sky_time = 100\n",
    "    \n",
    "    sky = (sky_rate*sky_time)*(target_time/sky_time) # calculate the number of sky photons seen during the observation time\n",
    "    #print(sky)\n",
    "    target = (sky_rate+target_rate)*target_time   # calculate the number of target photons seen during the observation time\n",
    "    #print(target)\n",
    "    \n",
    "    sky_unc = (np.sqrt(sky_time*sky_rate)*(target_time/sky_time))  # calculate photon uncertainty\n",
    "    #print(sky_unc)\n",
    "    target_unc = np.sqrt(target)    # calculate photon uncertainty \n",
    "    #print(target_unc)\n",
    "    \n",
    "    signal = target - sky      # target - sky photons of actual object\n",
    "    #print(signal)\n",
    "    noise = np.sqrt((target_unc**2)+(sky_unc**2))  # the unc for the actual object\n",
    "    #print(noise)\n",
    "    \n",
    "    SN = signal/noise   # the signal-to-noise ratio\n",
    "    print(f\"The S/N ratio is {SN:.2f}, or {SN*100:.2f}%\")\n",
    "    #return SN"
   ]
  },
  {
   "cell_type": "code",
   "execution_count": 13,
   "metadata": {},
   "outputs": [
    {
     "name": "stdout",
     "output_type": "stream",
     "text": [
      "Within one hour, how many seconds do you want to spend observing the target? 1\n",
      "The S/N ratio is 2.89, or 288.67%\n"
     ]
    }
   ],
   "source": [
    "target_rate = 10   # target rate, cts/s\n",
    "sky_rate = 2       # sky rate, cts/s\n",
    "\n",
    "calculate_SN(target_rate,sky_rate)"
   ]
  },
  {
   "cell_type": "code",
   "execution_count": 14,
   "metadata": {},
   "outputs": [
    {
     "name": "stdout",
     "output_type": "stream",
     "text": [
      "Within one hour, how many seconds do you want to spend observing the target? 1800\n",
      "The S/N ratio is 113.39, or 11338.93%\n"
     ]
    }
   ],
   "source": [
    "calculate_SN(target_rate,sky_rate)"
   ]
  },
  {
   "cell_type": "code",
   "execution_count": 15,
   "metadata": {},
   "outputs": [
    {
     "name": "stdout",
     "output_type": "stream",
     "text": [
      "Within one hour, how many seconds do you want to spend observing the target? 2400\n",
      "The S/N ratio is 122.47, or 12247.45%\n"
     ]
    }
   ],
   "source": [
    "calculate_SN(target_rate,sky_rate)"
   ]
  },
  {
   "cell_type": "code",
   "execution_count": 18,
   "metadata": {},
   "outputs": [
    {
     "name": "stdout",
     "output_type": "stream",
     "text": [
      "Within one hour, how many seconds do you want to spend observing the target? 3599\n",
      "The S/N ratio is 7.07, or 706.52%\n"
     ]
    }
   ],
   "source": [
    "calculate_SN(target_rate,sky_rate)"
   ]
  },
  {
   "cell_type": "code",
   "execution_count": 23,
   "metadata": {},
   "outputs": [],
   "source": [
    "# slightly modified function to make running it through a loop simpler (see plot below)\n",
    "\n",
    "def calculate_SN_loop(target_time_loop,target_rate,sky_rate):\n",
    "    target_time = float(target_time_loop)\n",
    "    assert(target_time <= 3600)   # assert that target_time does not exceed 3600 seconds of observing time\n",
    "    sky_time = 3600 - target_time   # put the remaining observation time to the sky\n",
    "    \n",
    "    sky = (sky_rate*sky_time)*(target_time/sky_time) # calculate the number of sky photons seen during the observation time\n",
    "    #print(sky)\n",
    "    target = (sky_rate+target_rate)*target_time   # calculate the number of target photons seen during the observation time\n",
    "    #print(target)\n",
    "    \n",
    "    sky_unc = (np.sqrt(sky_time*sky_rate)*(target_time/sky_time))  # calculate photon uncertainty\n",
    "    #print(sky_unc)\n",
    "    target_unc = np.sqrt(target)    # calculate photon uncertainty \n",
    "    #print(target_unc)\n",
    "    \n",
    "    signal = target - sky      # target - sky photons of actual object\n",
    "    #print(signal)\n",
    "    noise = np.sqrt((target_unc**2)+(sky_unc**2))  # the unc for the actual object\n",
    "    #print(noise)\n",
    "    \n",
    "    SN = signal/noise   # the signal-to-noise ratio\n",
    "    return SN"
   ]
  },
  {
   "cell_type": "code",
   "execution_count": 43,
   "metadata": {},
   "outputs": [
    {
     "name": "stderr",
     "output_type": "stream",
     "text": [
      "C:\\Users\\Kellie\\Anaconda3\\lib\\site-packages\\ipykernel_launcher.py:23: RuntimeWarning: invalid value encountered in double_scalars\n"
     ]
    },
    {
     "data": {
      "image/png": "[encoded data removed]",
      "text/plain": [
       "<Figure size 432x288 with 1 Axes>"
      ]
     },
     "metadata": {},
     "output_type": "display_data"
    },
    {
     "name": "stdout",
     "output_type": "stream",
     "text": [
      "For optimal S/N ratio, observe the target for 2556 seconds, and observe the sky for 1044 seconds. \n",
      "This is about 71% target time and 29% sky time.\n"
     ]
    }
   ],
   "source": [
    "# plot S/N for every option of time on target vs. time on background\n",
    "\n",
    "def plot_SN(target_rate,sky_rate):\n",
    "\n",
    "    SN_list = []\n",
    "\n",
    "    for i in np.arange(3600):\n",
    "        SN = calculate_SN_loop(i,target_rate,sky_rate)  \n",
    "        SN_list.append(SN)\n",
    "    SN_array = np.array(SN_list)\n",
    "    SN_array0 = [x for x in SN_array if (math.isnan(x) == False)]  # remove nan value(s)\n",
    "    #print(len(SN_array0))\n",
    "\n",
    "    optimal_obs_time = SN_list.index(max(SN_array0))   # the maximum time to observe target for optimal S/N\n",
    "    #print(optimal_obs_time)\n",
    "\n",
    "    plt.plot(SN_array, c='darkseagreen')\n",
    "    plt.axvline(optimal_obs_time,linestyle='--',c='skyblue')   # plot location of optimal target observation time\n",
    "    plt.axhline(np.max(SN_array0),linestyle='--',c='k',alpha=0.3) # plot horizontal line for maximum S/N ratio percentage\n",
    "    plt.title(\"S/N Ratios for Target vs. Sky Observation Time\")\n",
    "    plt.ylabel(\"S/N Ratio\")\n",
    "    plt.xlabel(\"Observation Time of Target (sec)\")\n",
    "    plt.show()\n",
    "\n",
    "    print(f\"For optimal S/N ratio, observe the target for {optimal_obs_time} seconds, and observe the sky for {(3600-optimal_obs_time)} seconds. \\nThis is about {round((optimal_obs_time/3600)*100)}% target time and {round(((3600-optimal_obs_time)/3600)*100)}% sky time.\")\n",
    "\n",
    "plot_SN(target_rate,sky_rate)"
   ]
  },
  {
   "cell_type": "code",
   "execution_count": 44,
   "metadata": {},
   "outputs": [
    {
     "name": "stderr",
     "output_type": "stream",
     "text": [
      "C:\\Users\\Kellie\\Anaconda3\\lib\\site-packages\\ipykernel_launcher.py:23: RuntimeWarning: invalid value encountered in double_scalars\n"
     ]
    },
    {
     "data": {
      "image/png": "[encoded data removed]",
      "text/plain": [
       "<Figure size 432x288 with 1 Axes>"
      ]
     },
     "metadata": {},
     "output_type": "display_data"
    },
    {
     "name": "stdout",
     "output_type": "stream",
     "text": [
      "For optimal S/N ratio, observe the target for 2282 seconds, and observe the sky for 1318 seconds. \n",
      "This is about 63% target time and 37% sky time.\n"
     ]
    }
   ],
   "source": [
    "# show results for a different sky rate\n",
    "\n",
    "sky_rate_new = 5  # new sky rate, cts/sec\n",
    "\n",
    "plot_SN(target_rate,sky_rate_new)"
   ]
  },
  {
   "cell_type": "code",
   "execution_count": null,
   "metadata": {},
   "outputs": [],
   "source": []
  }
 ],
 "metadata": {
  "kernelspec": {
   "display_name": "Python 3",
   "language": "python",
   "name": "python3"
  },
  "language_info": {
   "codemirror_mode": {
    "name": "ipython",
    "version": 3
   },
   "file_extension": ".py",
   "mimetype": "text/x-python",
   "name": "python",
   "nbconvert_exporter": "python",
   "pygments_lexer": "ipython3",
   "version": "3.6.5"
  }
 },
 "nbformat": 4,
 "nbformat_minor": 2
}
